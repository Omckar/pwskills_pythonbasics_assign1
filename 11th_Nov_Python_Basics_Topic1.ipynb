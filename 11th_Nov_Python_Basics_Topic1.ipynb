{
 "cells": [
  {
   "cell_type": "code",
   "execution_count": 5,
   "id": "e0e32881-fa7e-44bf-8cbd-30ddee5659dc",
   "metadata": {},
   "outputs": [
    {
     "name": "stdout",
     "output_type": "stream",
     "text": [
      "x = 5\n",
      "y = 10\n"
     ]
    }
   ],
   "source": [
    "# TOPIC 1\n",
    "# Qusetion 1\n",
    "x = 5\n",
    "y = 10\n",
    "print(\"x =\", x)\n",
    "print(\"y =\", y)"
   ]
  },
  {
   "cell_type": "code",
   "execution_count": 2,
   "id": "e9745f09-4851-4a74-b0dc-37f3f760a685",
   "metadata": {},
   "outputs": [],
   "source": [
    "x, y = y, x"
   ]
  },
  {
   "cell_type": "code",
   "execution_count": 4,
   "id": "5e5a8488-a890-42d9-8630-ea740174c121",
   "metadata": {},
   "outputs": [
    {
     "name": "stdout",
     "output_type": "stream",
     "text": [
      "x = 10\n",
      "y = 5\n"
     ]
    }
   ],
   "source": [
    "print(\"x =\", x)\n",
    "print(\"y =\", y)"
   ]
  },
  {
   "cell_type": "code",
   "execution_count": 6,
   "id": "54f18436-dd90-4f95-8b1d-cd84c7e9e972",
   "metadata": {},
   "outputs": [
    {
     "name": "stdin",
     "output_type": "stream",
     "text": [
      "Enter the length of the rectangle:  10\n",
      "Enter the width of the rectangle:  20\n"
     ]
    }
   ],
   "source": [
    "# Question 2\n",
    "length = float(input(\"Enter the length of the rectangle: \"))\n",
    "width = float(input(\"Enter the width of the rectangle: \"))"
   ]
  },
  {
   "cell_type": "code",
   "execution_count": 7,
   "id": "cc58fdbb-da69-480c-b331-7039056cf0a9",
   "metadata": {},
   "outputs": [],
   "source": [
    "area = length * width"
   ]
  },
  {
   "cell_type": "code",
   "execution_count": 8,
   "id": "e4f1e2cf-ce80-4b9f-8178-15829fe2e6b6",
   "metadata": {},
   "outputs": [
    {
     "name": "stdout",
     "output_type": "stream",
     "text": [
      "The area of the rectangle is: 200.0\n"
     ]
    }
   ],
   "source": [
    "print(\"The area of the rectangle is:\", area)"
   ]
  },
  {
   "cell_type": "code",
   "execution_count": 9,
   "id": "6c5379c7-b9d6-4106-9ede-14cc1b64d1f1",
   "metadata": {},
   "outputs": [
    {
     "name": "stdin",
     "output_type": "stream",
     "text": [
      "Enter the temperature in Celsius:  45\n"
     ]
    },
    {
     "name": "stdout",
     "output_type": "stream",
     "text": [
      "Temperature in Fahrenheit: 113.0\n"
     ]
    }
   ],
   "source": [
    "# Question 3\n",
    "cel = float(input(\"Enter the temperature in Celsius: \"))\n",
    "fah = (cel * 9/5) + 32\n",
    "print(\"Temperature in Fahrenheit:\", fah)"
   ]
  }
 ],
 "metadata": {
  "kernelspec": {
   "display_name": "Python 3 (ipykernel)",
   "language": "python",
   "name": "python3"
  },
  "language_info": {
   "codemirror_mode": {
    "name": "ipython",
    "version": 3
   },
   "file_extension": ".py",
   "mimetype": "text/x-python",
   "name": "python",
   "nbconvert_exporter": "python",
   "pygments_lexer": "ipython3",
   "version": "3.10.8"
  }
 },
 "nbformat": 4,
 "nbformat_minor": 5
}
